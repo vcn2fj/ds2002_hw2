{
  "nbformat": 4,
  "nbformat_minor": 0,
  "metadata": {
    "colab": {
      "provenance": [],
      "authorship_tag": "ABX9TyOm+a+osihWQZMbkrGr4Iv5",
      "include_colab_link": true
    },
    "kernelspec": {
      "name": "python3",
      "display_name": "Python 3"
    },
    "language_info": {
      "name": "python"
    }
  },
  "cells": [
    {
      "cell_type": "markdown",
      "metadata": {
        "id": "view-in-github",
        "colab_type": "text"
      },
      "source": [
        "<a href=\"https://colab.research.google.com/github/vcn2fj/ds2002_hw2/blob/main/hw2.ipynb\" target=\"_parent\"><img src=\"https://colab.research.google.com/assets/colab-badge.svg\" alt=\"Open In Colab\"/></a>"
      ]
    },
    {
      "cell_type": "code",
      "execution_count": 2,
      "metadata": {
        "id": "gFIVXH8zKfPO"
      },
      "outputs": [],
      "source": [
        "# Elizabeth Wu vcn2fj\n",
        "#1\n",
        "import sqlite3\n",
        "# Create or connect to an SQLite database\n",
        "connection = sqlite3.connect('student_grades.db')\n",
        "\n",
        "# Create a cursor object (controller that connects to db)\n",
        "cursor = connection.cursor()"
      ]
    },
    {
      "cell_type": "code",
      "source": [
        "#2\n",
        "# Create the students table\n",
        "cursor.execute('''\n",
        "CREATE TABLE IF NOT EXISTS students (\n",
        "    student_id INTEGER PRIMARY KEY AUTOINCREMENT,\n",
        "    first_name TEXT,\n",
        "    last_name TEXT\n",
        ")\n",
        "''')\n",
        "\n",
        "# Create the grades table\n",
        "cursor.execute('''\n",
        "CREATE TABLE IF NOT EXISTS grades (\n",
        "    grade_id INTEGER PRIMARY KEY AUTOINCREMENT,\n",
        "    student_id INTEGER REFERENCES students(student_id),\n",
        "    subject TEXT,\n",
        "    grade INTEGER\n",
        ")\n",
        "''')"
      ],
      "metadata": {
        "colab": {
          "base_uri": "https://localhost:8080/"
        },
        "id": "mHrm1j0BLRjb",
        "outputId": "7dd7f127-cca3-4c60-9292-6741f30dc922"
      },
      "execution_count": 3,
      "outputs": [
        {
          "output_type": "execute_result",
          "data": {
            "text/plain": [
              "<sqlite3.Cursor at 0x7c76e80d3040>"
            ]
          },
          "metadata": {},
          "execution_count": 3
        }
      ]
    },
    {
      "cell_type": "code",
      "source": [
        "cursor.execute(\"DELETE FROM students\")\n",
        "cursor.execute(\"DELETE FROM grades\")\n",
        "connection.commit()"
      ],
      "metadata": {
        "id": "a_XlVY4LQyjA"
      },
      "execution_count": 4,
      "outputs": []
    },
    {
      "cell_type": "code",
      "source": [
        "#3\n",
        "# Sample data to insert into the students table\n",
        "students_data = [\n",
        "    (1, 'Alice', 'Johnson'),\n",
        "    (2, 'Bob', 'Smith'),\n",
        "    (3, 'Carol', 'White'),\n",
        "    (4, 'David', 'Brown'),\n",
        "    (5, 'Eve', 'Davis')\n",
        "]\n",
        "\n",
        "# Insert data into the table\n",
        "cursor.executemany('''\n",
        "INSERT INTO students (student_id, first_name, last_name) VALUES (?, ?, ?)\n",
        "''', students_data)\n",
        "\n",
        "# Commit the transaction\n",
        "connection.commit()\n",
        "\n",
        "# Sample data to insert into the grades table\n",
        "grades_data = [\n",
        "    (1, 1, 'Math', 95),\n",
        "    (2, 1, 'English', 88),\n",
        "    (3, 1, 'History', 90),\n",
        "    (4, 2, 'Math', 82),\n",
        "    (5, 2, 'English', 82),\n",
        "    (6, 2, 'History', 85),\n",
        "    (7, 3, 'Math', 95),\n",
        "    (8, 3, 'English', 88),\n",
        "    (9, 3, 'History', 90),\n",
        "    (10, 4, 'Math', 82),\n",
        "    (11, 4, 'English', 79),\n",
        "    (12, 4, 'History', 80),\n",
        "     (13, 5, 'Math', 95),\n",
        "    (14, 5, 'English', 99),\n",
        "    (15, 5, 'History', 94),\n",
        "]\n",
        "\n",
        "# Insert data into the table\n",
        "cursor.executemany('''\n",
        "INSERT INTO grades (grade_id, student_id, subject, grade) VALUES (?, ?, ?, ?)\n",
        "''', grades_data)\n",
        "\n",
        "# Commit the transaction\n",
        "connection.commit()"
      ],
      "metadata": {
        "id": "X55iEqJ5LsJ2"
      },
      "execution_count": 5,
      "outputs": []
    },
    {
      "cell_type": "code",
      "source": [
        "#4\n",
        "# Perform a JOIN query between students and grades\n",
        "cursor.execute('''\n",
        "SELECT students.first_name, students.last_name, grades.grade\n",
        "FROM students\n",
        "JOIN grades ON students.student_id = grades.student_id\n",
        "''')\n",
        "\n",
        "# Fetch and display the results\n",
        "joined_data = cursor.fetchall()\n",
        "\n",
        "print(\"Joined student names and their grades:\")\n",
        "for row in joined_data:\n",
        "    print(row)"
      ],
      "metadata": {
        "colab": {
          "base_uri": "https://localhost:8080/"
        },
        "id": "PEKfp961OMzo",
        "outputId": "36207a84-b792-4cd6-ce7f-3e7fc9c76ec5"
      },
      "execution_count": 6,
      "outputs": [
        {
          "output_type": "stream",
          "name": "stdout",
          "text": [
            "Joined student names and their grades:\n",
            "('Alice', 'Johnson', 95)\n",
            "('Alice', 'Johnson', 88)\n",
            "('Alice', 'Johnson', 90)\n",
            "('Bob', 'Smith', 82)\n",
            "('Bob', 'Smith', 82)\n",
            "('Bob', 'Smith', 85)\n",
            "('Carol', 'White', 95)\n",
            "('Carol', 'White', 88)\n",
            "('Carol', 'White', 90)\n",
            "('David', 'Brown', 82)\n",
            "('David', 'Brown', 79)\n",
            "('David', 'Brown', 80)\n",
            "('Eve', 'Davis', 95)\n",
            "('Eve', 'Davis', 99)\n",
            "('Eve', 'Davis', 94)\n"
          ]
        }
      ]
    },
    {
      "cell_type": "code",
      "source": [
        "cursor.execute('''\n",
        "SELECT students.first_name, students.last_name, AVG(grades.grade)\n",
        "FROM students\n",
        "JOIN grades ON students.student_id = grades.student_id\n",
        "GROUP BY students.student_id, students.first_name\n",
        "''')\n",
        "\n",
        "average_grades = cursor.fetchall()\n",
        "\n",
        "print(\"student name and their avg grades:\")\n",
        "for row in average_grades:\n",
        "    print(row)"
      ],
      "metadata": {
        "id": "rVQfQEm4PjC1",
        "colab": {
          "base_uri": "https://localhost:8080/"
        },
        "outputId": "d85d7943-ff9f-49c3-e9d9-1ef188eccbaf"
      },
      "execution_count": 7,
      "outputs": [
        {
          "output_type": "stream",
          "name": "stdout",
          "text": [
            "student name and their avg grades:\n",
            "('Alice', 'Johnson', 91.0)\n",
            "('Bob', 'Smith', 83.0)\n",
            "('Carol', 'White', 91.0)\n",
            "('David', 'Brown', 80.33333333333333)\n",
            "('Eve', 'Davis', 96.0)\n"
          ]
        }
      ]
    },
    {
      "cell_type": "code",
      "source": [
        "# finding student with highest avg grade\n",
        "cursor.execute('''\n",
        "SELECT students.first_name, students.last_name, AVG(grades.grade)\n",
        "FROM students\n",
        "JOIN grades ON students.student_id = grades.student_id\n",
        "GROUP BY students.student_id, students.first_name\n",
        "ORDER BY AVG(grades.grade) DESC\n",
        "LIMIT 1;\n",
        "''')\n",
        "\n",
        "highest_avg = cursor.fetchall()\n",
        "\n",
        "print(\"student with highest avg grade:\")\n",
        "for row in highest_avg:\n",
        "    print(row)"
      ],
      "metadata": {
        "colab": {
          "base_uri": "https://localhost:8080/"
        },
        "id": "hwjHEMPsIPSe",
        "outputId": "320ec6db-f637-411a-d482-7ae3381b40e6"
      },
      "execution_count": 8,
      "outputs": [
        {
          "output_type": "stream",
          "name": "stdout",
          "text": [
            "student with highest avg grade:\n",
            "('Eve', 'Davis', 96.0)\n"
          ]
        }
      ]
    },
    {
      "cell_type": "code",
      "source": [
        "# finding the avg grade for the math subject\n",
        "cursor.execute('''\n",
        "SELECT AVG(grade)\n",
        "FROM grades\n",
        "WHERE subject = 'Math'\n",
        "LIMIT 1;\n",
        "''')\n",
        "\n",
        "avg_math = cursor.fetchall()\n",
        "\n",
        "print(\"avg math grade:\")\n",
        "for row in avg_math:\n",
        "    print(row)"
      ],
      "metadata": {
        "colab": {
          "base_uri": "https://localhost:8080/"
        },
        "id": "kdUlX-KkDnrD",
        "outputId": "21175f55-a7d2-4de9-f804-b69238f143f6"
      },
      "execution_count": 9,
      "outputs": [
        {
          "output_type": "stream",
          "name": "stdout",
          "text": [
            "avg math grade:\n",
            "(89.8,)\n"
          ]
        }
      ]
    },
    {
      "cell_type": "code",
      "source": [
        "# listing all students who scored above 90 in any subject\n",
        "cursor.execute('''\n",
        "SELECT students.first_name, students.last_name\n",
        "FROM students\n",
        "JOIN grades ON students.student_id = grades.student_id\n",
        "WHERE grades.grade > 90\n",
        "GROUP BY students.student_id, students.first_name\n",
        "''')\n",
        "\n",
        "above = cursor.fetchall()\n",
        "\n",
        "print(\"students who scored above 90 in any subject:\")\n",
        "for row in above:\n",
        "    print(row)"
      ],
      "metadata": {
        "colab": {
          "base_uri": "https://localhost:8080/"
        },
        "id": "pNl8uFX-HM83",
        "outputId": "907997e0-6b61-40a8-a00f-0aa2f8c10a99"
      },
      "execution_count": 10,
      "outputs": [
        {
          "output_type": "stream",
          "name": "stdout",
          "text": [
            "students who scored above 90 in any subject:\n",
            "('Alice', 'Johnson')\n",
            "('Carol', 'White')\n",
            "('Eve', 'Davis')\n"
          ]
        }
      ]
    },
    {
      "cell_type": "code",
      "source": [
        "#5\n",
        "import pandas as pd\n",
        "\n",
        "# Query the sales data into a DataFrame\n",
        "df = pd.read_sql_query('''SELECT students.first_name, students.last_name, grades.subject, grades.grade FROM students\n",
        "JOIN grades ON students.student_id = grades.student_id''', connection)\n",
        "\n",
        "# Display the DataFrame\n",
        "df.head()"
      ],
      "metadata": {
        "colab": {
          "base_uri": "https://localhost:8080/",
          "height": 206
        },
        "id": "Zx1aybzwHyEX",
        "outputId": "6e7613e7-a197-421c-bc85-8e5670f61478"
      },
      "execution_count": 11,
      "outputs": [
        {
          "output_type": "execute_result",
          "data": {
            "text/plain": [
              "  first_name last_name  subject  grade\n",
              "0      Alice   Johnson     Math     95\n",
              "1      Alice   Johnson  English     88\n",
              "2      Alice   Johnson  History     90\n",
              "3        Bob     Smith     Math     82\n",
              "4        Bob     Smith  English     82"
            ],
            "text/html": [
              "\n",
              "  <div id=\"df-57ca03fc-d4ff-4244-b989-686aa8d4575f\" class=\"colab-df-container\">\n",
              "    <div>\n",
              "<style scoped>\n",
              "    .dataframe tbody tr th:only-of-type {\n",
              "        vertical-align: middle;\n",
              "    }\n",
              "\n",
              "    .dataframe tbody tr th {\n",
              "        vertical-align: top;\n",
              "    }\n",
              "\n",
              "    .dataframe thead th {\n",
              "        text-align: right;\n",
              "    }\n",
              "</style>\n",
              "<table border=\"1\" class=\"dataframe\">\n",
              "  <thead>\n",
              "    <tr style=\"text-align: right;\">\n",
              "      <th></th>\n",
              "      <th>first_name</th>\n",
              "      <th>last_name</th>\n",
              "      <th>subject</th>\n",
              "      <th>grade</th>\n",
              "    </tr>\n",
              "  </thead>\n",
              "  <tbody>\n",
              "    <tr>\n",
              "      <th>0</th>\n",
              "      <td>Alice</td>\n",
              "      <td>Johnson</td>\n",
              "      <td>Math</td>\n",
              "      <td>95</td>\n",
              "    </tr>\n",
              "    <tr>\n",
              "      <th>1</th>\n",
              "      <td>Alice</td>\n",
              "      <td>Johnson</td>\n",
              "      <td>English</td>\n",
              "      <td>88</td>\n",
              "    </tr>\n",
              "    <tr>\n",
              "      <th>2</th>\n",
              "      <td>Alice</td>\n",
              "      <td>Johnson</td>\n",
              "      <td>History</td>\n",
              "      <td>90</td>\n",
              "    </tr>\n",
              "    <tr>\n",
              "      <th>3</th>\n",
              "      <td>Bob</td>\n",
              "      <td>Smith</td>\n",
              "      <td>Math</td>\n",
              "      <td>82</td>\n",
              "    </tr>\n",
              "    <tr>\n",
              "      <th>4</th>\n",
              "      <td>Bob</td>\n",
              "      <td>Smith</td>\n",
              "      <td>English</td>\n",
              "      <td>82</td>\n",
              "    </tr>\n",
              "  </tbody>\n",
              "</table>\n",
              "</div>\n",
              "    <div class=\"colab-df-buttons\">\n",
              "\n",
              "  <div class=\"colab-df-container\">\n",
              "    <button class=\"colab-df-convert\" onclick=\"convertToInteractive('df-57ca03fc-d4ff-4244-b989-686aa8d4575f')\"\n",
              "            title=\"Convert this dataframe to an interactive table.\"\n",
              "            style=\"display:none;\">\n",
              "\n",
              "  <svg xmlns=\"http://www.w3.org/2000/svg\" height=\"24px\" viewBox=\"0 -960 960 960\">\n",
              "    <path d=\"M120-120v-720h720v720H120Zm60-500h600v-160H180v160Zm220 220h160v-160H400v160Zm0 220h160v-160H400v160ZM180-400h160v-160H180v160Zm440 0h160v-160H620v160ZM180-180h160v-160H180v160Zm440 0h160v-160H620v160Z\"/>\n",
              "  </svg>\n",
              "    </button>\n",
              "\n",
              "  <style>\n",
              "    .colab-df-container {\n",
              "      display:flex;\n",
              "      gap: 12px;\n",
              "    }\n",
              "\n",
              "    .colab-df-convert {\n",
              "      background-color: #E8F0FE;\n",
              "      border: none;\n",
              "      border-radius: 50%;\n",
              "      cursor: pointer;\n",
              "      display: none;\n",
              "      fill: #1967D2;\n",
              "      height: 32px;\n",
              "      padding: 0 0 0 0;\n",
              "      width: 32px;\n",
              "    }\n",
              "\n",
              "    .colab-df-convert:hover {\n",
              "      background-color: #E2EBFA;\n",
              "      box-shadow: 0px 1px 2px rgba(60, 64, 67, 0.3), 0px 1px 3px 1px rgba(60, 64, 67, 0.15);\n",
              "      fill: #174EA6;\n",
              "    }\n",
              "\n",
              "    .colab-df-buttons div {\n",
              "      margin-bottom: 4px;\n",
              "    }\n",
              "\n",
              "    [theme=dark] .colab-df-convert {\n",
              "      background-color: #3B4455;\n",
              "      fill: #D2E3FC;\n",
              "    }\n",
              "\n",
              "    [theme=dark] .colab-df-convert:hover {\n",
              "      background-color: #434B5C;\n",
              "      box-shadow: 0px 1px 3px 1px rgba(0, 0, 0, 0.15);\n",
              "      filter: drop-shadow(0px 1px 2px rgba(0, 0, 0, 0.3));\n",
              "      fill: #FFFFFF;\n",
              "    }\n",
              "  </style>\n",
              "\n",
              "    <script>\n",
              "      const buttonEl =\n",
              "        document.querySelector('#df-57ca03fc-d4ff-4244-b989-686aa8d4575f button.colab-df-convert');\n",
              "      buttonEl.style.display =\n",
              "        google.colab.kernel.accessAllowed ? 'block' : 'none';\n",
              "\n",
              "      async function convertToInteractive(key) {\n",
              "        const element = document.querySelector('#df-57ca03fc-d4ff-4244-b989-686aa8d4575f');\n",
              "        const dataTable =\n",
              "          await google.colab.kernel.invokeFunction('convertToInteractive',\n",
              "                                                    [key], {});\n",
              "        if (!dataTable) return;\n",
              "\n",
              "        const docLinkHtml = 'Like what you see? Visit the ' +\n",
              "          '<a target=\"_blank\" href=https://colab.research.google.com/notebooks/data_table.ipynb>data table notebook</a>'\n",
              "          + ' to learn more about interactive tables.';\n",
              "        element.innerHTML = '';\n",
              "        dataTable['output_type'] = 'display_data';\n",
              "        await google.colab.output.renderOutput(dataTable, element);\n",
              "        const docLink = document.createElement('div');\n",
              "        docLink.innerHTML = docLinkHtml;\n",
              "        element.appendChild(docLink);\n",
              "      }\n",
              "    </script>\n",
              "  </div>\n",
              "\n",
              "\n",
              "<div id=\"df-2455b490-970e-4421-b8cc-1c5c2e5b9695\">\n",
              "  <button class=\"colab-df-quickchart\" onclick=\"quickchart('df-2455b490-970e-4421-b8cc-1c5c2e5b9695')\"\n",
              "            title=\"Suggest charts\"\n",
              "            style=\"display:none;\">\n",
              "\n",
              "<svg xmlns=\"http://www.w3.org/2000/svg\" height=\"24px\"viewBox=\"0 0 24 24\"\n",
              "     width=\"24px\">\n",
              "    <g>\n",
              "        <path d=\"M19 3H5c-1.1 0-2 .9-2 2v14c0 1.1.9 2 2 2h14c1.1 0 2-.9 2-2V5c0-1.1-.9-2-2-2zM9 17H7v-7h2v7zm4 0h-2V7h2v10zm4 0h-2v-4h2v4z\"/>\n",
              "    </g>\n",
              "</svg>\n",
              "  </button>\n",
              "\n",
              "<style>\n",
              "  .colab-df-quickchart {\n",
              "      --bg-color: #E8F0FE;\n",
              "      --fill-color: #1967D2;\n",
              "      --hover-bg-color: #E2EBFA;\n",
              "      --hover-fill-color: #174EA6;\n",
              "      --disabled-fill-color: #AAA;\n",
              "      --disabled-bg-color: #DDD;\n",
              "  }\n",
              "\n",
              "  [theme=dark] .colab-df-quickchart {\n",
              "      --bg-color: #3B4455;\n",
              "      --fill-color: #D2E3FC;\n",
              "      --hover-bg-color: #434B5C;\n",
              "      --hover-fill-color: #FFFFFF;\n",
              "      --disabled-bg-color: #3B4455;\n",
              "      --disabled-fill-color: #666;\n",
              "  }\n",
              "\n",
              "  .colab-df-quickchart {\n",
              "    background-color: var(--bg-color);\n",
              "    border: none;\n",
              "    border-radius: 50%;\n",
              "    cursor: pointer;\n",
              "    display: none;\n",
              "    fill: var(--fill-color);\n",
              "    height: 32px;\n",
              "    padding: 0;\n",
              "    width: 32px;\n",
              "  }\n",
              "\n",
              "  .colab-df-quickchart:hover {\n",
              "    background-color: var(--hover-bg-color);\n",
              "    box-shadow: 0 1px 2px rgba(60, 64, 67, 0.3), 0 1px 3px 1px rgba(60, 64, 67, 0.15);\n",
              "    fill: var(--button-hover-fill-color);\n",
              "  }\n",
              "\n",
              "  .colab-df-quickchart-complete:disabled,\n",
              "  .colab-df-quickchart-complete:disabled:hover {\n",
              "    background-color: var(--disabled-bg-color);\n",
              "    fill: var(--disabled-fill-color);\n",
              "    box-shadow: none;\n",
              "  }\n",
              "\n",
              "  .colab-df-spinner {\n",
              "    border: 2px solid var(--fill-color);\n",
              "    border-color: transparent;\n",
              "    border-bottom-color: var(--fill-color);\n",
              "    animation:\n",
              "      spin 1s steps(1) infinite;\n",
              "  }\n",
              "\n",
              "  @keyframes spin {\n",
              "    0% {\n",
              "      border-color: transparent;\n",
              "      border-bottom-color: var(--fill-color);\n",
              "      border-left-color: var(--fill-color);\n",
              "    }\n",
              "    20% {\n",
              "      border-color: transparent;\n",
              "      border-left-color: var(--fill-color);\n",
              "      border-top-color: var(--fill-color);\n",
              "    }\n",
              "    30% {\n",
              "      border-color: transparent;\n",
              "      border-left-color: var(--fill-color);\n",
              "      border-top-color: var(--fill-color);\n",
              "      border-right-color: var(--fill-color);\n",
              "    }\n",
              "    40% {\n",
              "      border-color: transparent;\n",
              "      border-right-color: var(--fill-color);\n",
              "      border-top-color: var(--fill-color);\n",
              "    }\n",
              "    60% {\n",
              "      border-color: transparent;\n",
              "      border-right-color: var(--fill-color);\n",
              "    }\n",
              "    80% {\n",
              "      border-color: transparent;\n",
              "      border-right-color: var(--fill-color);\n",
              "      border-bottom-color: var(--fill-color);\n",
              "    }\n",
              "    90% {\n",
              "      border-color: transparent;\n",
              "      border-bottom-color: var(--fill-color);\n",
              "    }\n",
              "  }\n",
              "</style>\n",
              "\n",
              "  <script>\n",
              "    async function quickchart(key) {\n",
              "      const quickchartButtonEl =\n",
              "        document.querySelector('#' + key + ' button');\n",
              "      quickchartButtonEl.disabled = true;  // To prevent multiple clicks.\n",
              "      quickchartButtonEl.classList.add('colab-df-spinner');\n",
              "      try {\n",
              "        const charts = await google.colab.kernel.invokeFunction(\n",
              "            'suggestCharts', [key], {});\n",
              "      } catch (error) {\n",
              "        console.error('Error during call to suggestCharts:', error);\n",
              "      }\n",
              "      quickchartButtonEl.classList.remove('colab-df-spinner');\n",
              "      quickchartButtonEl.classList.add('colab-df-quickchart-complete');\n",
              "    }\n",
              "    (() => {\n",
              "      let quickchartButtonEl =\n",
              "        document.querySelector('#df-2455b490-970e-4421-b8cc-1c5c2e5b9695 button');\n",
              "      quickchartButtonEl.style.display =\n",
              "        google.colab.kernel.accessAllowed ? 'block' : 'none';\n",
              "    })();\n",
              "  </script>\n",
              "</div>\n",
              "\n",
              "    </div>\n",
              "  </div>\n"
            ],
            "application/vnd.google.colaboratory.intrinsic+json": {
              "type": "dataframe",
              "variable_name": "df",
              "summary": "{\n  \"name\": \"df\",\n  \"rows\": 15,\n  \"fields\": [\n    {\n      \"column\": \"first_name\",\n      \"properties\": {\n        \"dtype\": \"category\",\n        \"num_unique_values\": 5,\n        \"samples\": [\n          \"Bob\",\n          \"Eve\",\n          \"Carol\"\n        ],\n        \"semantic_type\": \"\",\n        \"description\": \"\"\n      }\n    },\n    {\n      \"column\": \"last_name\",\n      \"properties\": {\n        \"dtype\": \"category\",\n        \"num_unique_values\": 5,\n        \"samples\": [\n          \"Smith\",\n          \"Davis\",\n          \"White\"\n        ],\n        \"semantic_type\": \"\",\n        \"description\": \"\"\n      }\n    },\n    {\n      \"column\": \"subject\",\n      \"properties\": {\n        \"dtype\": \"category\",\n        \"num_unique_values\": 3,\n        \"samples\": [\n          \"Math\",\n          \"English\",\n          \"History\"\n        ],\n        \"semantic_type\": \"\",\n        \"description\": \"\"\n      }\n    },\n    {\n      \"column\": \"grade\",\n      \"properties\": {\n        \"dtype\": \"number\",\n        \"std\": 6,\n        \"min\": 79,\n        \"max\": 99,\n        \"num_unique_values\": 9,\n        \"samples\": [\n          99,\n          88,\n          79\n        ],\n        \"semantic_type\": \"\",\n        \"description\": \"\"\n      }\n    }\n  ]\n}"
            }
          },
          "metadata": {},
          "execution_count": 11
        }
      ]
    },
    {
      "cell_type": "code",
      "source": [
        "import matplotlib.pyplot as plt\n",
        "df2 = pd.read_sql_query('''\n",
        "SELECT students.first_name, students.last_name, AVG(grades.grade)\n",
        "FROM students\n",
        "JOIN grades ON students.student_id = grades.student_id\n",
        "GROUP BY students.student_id, students.first_name\n",
        "''', connection)\n",
        "\n",
        "# # Plot grade data\n",
        "plt.figure(figsize=(10,6))\n",
        "plt.bar(df2['first_name'], df2['AVG(grades.grade)'], color='lightgreen')\n",
        "plt.xlabel('student first name')\n",
        "plt.ylabel('avg grade')\n",
        "plt.title('Avg Grade by Student')\n",
        "plt.show()\n",
        "\n",
        "df3 = pd.read_sql_query('''\n",
        "SELECT subject, AVG(grade)\n",
        "FROM grades\n",
        "GROUP BY subject\n",
        "''', connection)\n",
        "\n",
        "# # Plot subject data\n",
        "plt.figure(figsize=(10,6))\n",
        "plt.bar(df3['subject'], df3['AVG(grade)'], color='lightblue')\n",
        "plt.xlabel('subject')\n",
        "plt.ylabel('avg grade')\n",
        "plt.title('Avg Grade by Subject')\n",
        "plt.show()"
      ],
      "metadata": {
        "colab": {
          "base_uri": "https://localhost:8080/",
          "height": 1000
        },
        "id": "1EV9f5z1JZCk",
        "outputId": "42d7b72a-2dfd-4929-b91c-5eac33d2fe53"
      },
      "execution_count": 12,
      "outputs": [
        {
          "output_type": "display_data",
          "data": {
            "text/plain": [
              "<Figure size 1000x600 with 1 Axes>"
            ],
            "image/png": "[encoded data removed]"
          },
          "metadata": {}
        },
        {
          "output_type": "display_data",
          "data": {
            "text/plain": [
              "<Figure size 1000x600 with 1 Axes>"
            ],
            "image/png": "[encoded data removed]"
          },
          "metadata": {}
        }
      ]
    },
    {
      "cell_type": "code",
      "source": [],
      "metadata": {
        "id": "nRljq3g_P9xL"
      },
      "execution_count": null,
      "outputs": []
    }
  ]
}
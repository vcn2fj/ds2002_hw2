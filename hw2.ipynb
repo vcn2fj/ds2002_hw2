{
  "nbformat": 4,
  "nbformat_minor": 0,
  "metadata": {
    "colab": {
      "provenance": [],
      "authorship_tag": "ABX9TyOGnCeBuPsGAwvk4LwzVn+S",
      "include_colab_link": true
    },
    "kernelspec": {
      "name": "python3",
      "display_name": "Python 3"
    },
    "language_info": {
      "name": "python"
    }
  },
  "cells": [
    {
      "cell_type": "markdown",
      "metadata": {
        "id": "view-in-github",
        "colab_type": "text"
      },
      "source": [
        "<a href=\"https://colab.research.google.com/github/vcn2fj/ds2002_hw2/blob/main/hw2.ipynb\" target=\"_parent\"><img src=\"https://colab.research.google.com/assets/colab-badge.svg\" alt=\"Open In Colab\"/></a>"
      ]
    },
    {
      "cell_type": "code",
      "execution_count": null,
      "metadata": {
        "colab": {
          "base_uri": "https://localhost:8080/"
        },
        "id": "gFIVXH8zKfPO",
        "outputId": "cd668863-1205-435f-bf6a-c1f3c60d25dc"
      },
      "outputs": [
        {
          "output_type": "stream",
          "name": "stdout",
          "text": [
            "Database created and connected!\n"
          ]
        }
      ],
      "source": [
        "#1\n",
        "import sqlite3\n",
        "\n",
        "# Create or connect to an SQLite database\n",
        "connection = sqlite3.connect('student_grades.db')\n",
        "\n",
        "# Create a cursor object (controller that connects to db)\n",
        "cursor = connection.cursor()"
      ]
    },
    {
      "cell_type": "code",
      "source": [],
      "metadata": {
        "colab": {
          "base_uri": "https://localhost:8080/"
        },
        "id": "incuHrgoLHJT",
        "outputId": "e29148e1-ffff-4612-bf8b-19d468f95abe"
      },
      "execution_count": null,
      "outputs": [
        {
          "output_type": "stream",
          "name": "stdout",
          "text": [
            "Cursor created!\n"
          ]
        }
      ]
    },
    {
      "cell_type": "code",
      "source": [
        "#2\n",
        "# Create the students table\n",
        "cursor.execute('''\n",
        "CREATE TABLE IF NOT EXISTS students (\n",
        "    student_id INTEGER PRIMARY KEY AUTOINCREMENT,\n",
        "    first_name TEXT,\n",
        "    last_name TEXT\n",
        ")\n",
        "''')\n",
        "\n",
        "# Create the grades table\n",
        "cursor.execute('''\n",
        "CREATE TABLE IF NOT EXISTS grades (\n",
        "    grade_id INTEGER PRIMARY KEY AUTOINCREMENT,\n",
        "    student_id INTEGER REFERENCES students(student_id),\n",
        "    subject TEXT,\n",
        "    grade INTEGER\n",
        ")\n",
        "''')"
      ],
      "metadata": {
        "colab": {
          "base_uri": "https://localhost:8080/"
        },
        "id": "mHrm1j0BLRjb",
        "outputId": "6b66ea8a-e034-42cb-e156-314a6b40c3c8"
      },
      "execution_count": null,
      "outputs": [
        {
          "output_type": "execute_result",
          "data": {
            "text/plain": [
              "<sqlite3.Cursor at 0x7a1e8c5183c0>"
            ]
          },
          "metadata": {},
          "execution_count": 8
        }
      ]
    },
    {
      "cell_type": "code",
      "source": [
        "cursor.execute(\"DELETE FROM students\")\n",
        "cursor.execute(\"DELETE FROM grades\")\n",
        "connection.commit()"
      ],
      "metadata": {
        "id": "a_XlVY4LQyjA"
      },
      "execution_count": null,
      "outputs": []
    },
    {
      "cell_type": "code",
      "source": [
        "#3\n",
        "# Sample data to insert into the students table\n",
        "students_data = [\n",
        "    (1, 'Alice', 'Johnson'),\n",
        "    (2, 'Bob', 'Smith'),\n",
        "    (3, 'Carol', 'White'),\n",
        "    (4, 'David', 'Brown'),\n",
        "    (5, 'Eve', 'Davis')\n",
        "]\n",
        "\n",
        "# Insert data into the table\n",
        "cursor.executemany('''\n",
        "INSERT INTO students (student_id, first_name, last_name) VALUES (?, ?, ?)\n",
        "''', students_data)\n",
        "\n",
        "# Commit the transaction\n",
        "connection.commit()\n",
        "\n",
        "# Sample data to insert into the grades table\n",
        "grades_data = [\n",
        "    (1, 1, 'Math', 95),\n",
        "    (2, 1, 'English', 88),\n",
        "    (3, 1, 'History', 90),\n",
        "    (4, 2, 'Math', 82),\n",
        "    (5, 2, 'English', 82),\n",
        "    (6, 2, 'History', 85),\n",
        "    (7, 3, 'Math', 95),\n",
        "    (8, 3, 'English', 88),\n",
        "    (9, 3, 'History', 90),\n",
        "    (10, 4, 'Math', 82),\n",
        "    (11, 4, 'English', 79),\n",
        "    (12, 4, 'History', 80),\n",
        "     (13, 5, 'Math', 95),\n",
        "    (14, 5, 'English', 99),\n",
        "    (15, 5, 'History', 94),\n",
        "]\n",
        "\n",
        "# Insert data into the table\n",
        "cursor.executemany('''\n",
        "INSERT INTO grades (grade_id, student_id, subject, grade) VALUES (?, ?, ?, ?)\n",
        "''', grades_data)\n",
        "\n",
        "# Commit the transaction\n",
        "connection.commit()"
      ],
      "metadata": {
        "id": "X55iEqJ5LsJ2"
      },
      "execution_count": null,
      "outputs": []
    },
    {
      "cell_type": "code",
      "source": [
        "#4\n",
        "# # Fetch all data from the sales table\n",
        "# cursor.execute(\"SELECT * FROM students\")\n",
        "# rows = cursor.fetchall()\n",
        "\n",
        "# # Print the results\n",
        "# print(\"All sales data:\")\n",
        "# for row in rows:\n",
        "#     print(row)\n",
        "\n",
        "# Perform a JOIN query between students and grades\n",
        "cursor.execute('''\n",
        "SELECT students.first_name, students.last_name, grades.grade\n",
        "FROM students\n",
        "JOIN grades ON students.student_id = grades.student_id\n",
        "''')\n",
        "\n",
        "# Fetch and display the results\n",
        "joined_data = cursor.fetchall()\n",
        "\n",
        "print(\"Joined student names and their grades:\")\n",
        "for row in joined_data:\n",
        "    print(row)"
      ],
      "metadata": {
        "colab": {
          "base_uri": "https://localhost:8080/"
        },
        "id": "PEKfp961OMzo",
        "outputId": "862a57ba-7ced-457b-aecc-43bcbab78b54"
      },
      "execution_count": null,
      "outputs": [
        {
          "output_type": "stream",
          "name": "stdout",
          "text": [
            "Joined student names and their grades:\n",
            "('Alice', 'Johnson', 95)\n",
            "('Alice', 'Johnson', 88)\n",
            "('Alice', 'Johnson', 90)\n",
            "('Bob', 'Smith', 82)\n",
            "('Bob', 'Smith', 82)\n",
            "('Bob', 'Smith', 85)\n",
            "('Carol', 'White', 95)\n",
            "('Carol', 'White', 88)\n",
            "('Carol', 'White', 90)\n",
            "('David', 'Brown', 82)\n",
            "('David', 'Brown', 79)\n",
            "('David', 'Brown', 80)\n",
            "('Eve', 'Davis', 95)\n",
            "('Eve', 'Davis', 99)\n",
            "('Eve', 'Davis', 94)\n"
          ]
        }
      ]
    },
    {
      "cell_type": "code",
      "source": [
        "# Query for the average revenue per flavor\n",
        "cursor.execute('''\n",
        "SELECT AVG(grades) FROM sales\n",
        "''')\n",
        "average_revenue = cursor.fetchone()[0]\n",
        "\n",
        "# Display the result\n",
        "print(f\"Average revenue per flavor: ${average_revenue}\")"
      ],
      "metadata": {
        "id": "FwP5jmK1RVCt"
      },
      "execution_count": null,
      "outputs": []
    },
    {
      "cell_type": "code",
      "source": [],
      "metadata": {
        "id": "rVQfQEm4PjC1"
      },
      "execution_count": null,
      "outputs": []
    }
  ]
}